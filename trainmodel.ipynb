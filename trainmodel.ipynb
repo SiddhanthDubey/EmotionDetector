{
 "cells": [
  {
   "cell_type": "code",
   "execution_count": 1,
   "id": "19ce7749",
   "metadata": {},
   "outputs": [],
   "source": [
    "from keras.utils import to_categorical\n",
    "from keras_preprocessing.image import load_img\n",
    "from keras.models import Sequential\n",
    "from keras.layers import Dense, Conv2D, Dropout, Flatten, MaxPooling2D\n",
    "import os\n",
    "import pandas as pd\n",
    "import numpy as np"
   ]
  },
  {
   "cell_type": "code",
   "execution_count": 2,
   "id": "02e9c221",
   "metadata": {},
   "outputs": [],
   "source": [
    "TRAIN_DIR = 'images/train'\n",
    "TEST_DIR = 'images/test'"
   ]
  },
  {
   "cell_type": "code",
   "execution_count": 3,
   "id": "ede9c1f1",
   "metadata": {},
   "outputs": [],
   "source": [
    "def createdataframe(dir):\n",
    "    image_paths = []\n",
    "    labels = []\n",
    "    for label in os.listdir(dir):\n",
    "        for imagename in os.listdir(os.path.join(dir,label)):\n",
    "            image_paths.append(os.path.join(dir,label,imagename))\n",
    "            labels.append(label)\n",
    "        print(label, \"completed\")\n",
    "    return image_paths,labels\n"
   ]
  },
  {
   "cell_type": "code",
   "execution_count": 4,
   "id": "a3a8f1a9",
   "metadata": {},
   "outputs": [
    {
     "name": "stdout",
     "output_type": "stream",
     "text": [
      "angry completed\n",
      "disgust completed\n",
      "fear completed\n",
      "happy completed\n",
      "neutral completed\n",
      "sad completed\n",
      "surprise completed\n"
     ]
    }
   ],
   "source": [
    "train = pd.DataFrame()\n",
    "train['image'], train['label'] = createdataframe(TRAIN_DIR)"
   ]
  },
  {
   "cell_type": "code",
   "execution_count": 5,
   "id": "c8a0cd29",
   "metadata": {},
   "outputs": [
    {
     "name": "stdout",
     "output_type": "stream",
     "text": [
      "                                image     label\n",
      "0            images/train\\angry\\0.jpg     angry\n",
      "1            images/train\\angry\\1.jpg     angry\n",
      "2           images/train\\angry\\10.jpg     angry\n",
      "3        images/train\\angry\\10002.jpg     angry\n",
      "4        images/train\\angry\\10016.jpg     angry\n",
      "...                               ...       ...\n",
      "28816  images/train\\surprise\\9969.jpg  surprise\n",
      "28817  images/train\\surprise\\9985.jpg  surprise\n",
      "28818  images/train\\surprise\\9990.jpg  surprise\n",
      "28819  images/train\\surprise\\9992.jpg  surprise\n",
      "28820  images/train\\surprise\\9996.jpg  surprise\n",
      "\n",
      "[28821 rows x 2 columns]\n"
     ]
    }
   ],
   "source": [
    "print(train)"
   ]
  },
  {
   "cell_type": "code",
   "execution_count": 6,
   "id": "7f9688fc",
   "metadata": {},
   "outputs": [
    {
     "name": "stdout",
     "output_type": "stream",
     "text": [
      "angry completed\n",
      "disgust completed\n",
      "fear completed\n",
      "happy completed\n",
      "neutral completed\n",
      "sad completed\n",
      "surprise completed\n"
     ]
    }
   ],
   "source": [
    "test = pd.DataFrame()\n",
    "test['image'], test['label'] = createdataframe(TEST_DIR)"
   ]
  },
  {
   "cell_type": "code",
   "execution_count": 7,
   "id": "7f504f5d",
   "metadata": {},
   "outputs": [
    {
     "name": "stdout",
     "output_type": "stream",
     "text": [
      "                              image     label\n",
      "0       images/test\\angry\\10052.jpg     angry\n",
      "1       images/test\\angry\\10065.jpg     angry\n",
      "2       images/test\\angry\\10079.jpg     angry\n",
      "3       images/test\\angry\\10095.jpg     angry\n",
      "4       images/test\\angry\\10121.jpg     angry\n",
      "...                             ...       ...\n",
      "7061  images/test\\surprise\\9806.jpg  surprise\n",
      "7062  images/test\\surprise\\9830.jpg  surprise\n",
      "7063  images/test\\surprise\\9853.jpg  surprise\n",
      "7064  images/test\\surprise\\9878.jpg  surprise\n",
      "7065   images/test\\surprise\\993.jpg  surprise\n",
      "\n",
      "[7066 rows x 2 columns]\n",
      "0         images/test\\angry\\10052.jpg\n",
      "1         images/test\\angry\\10065.jpg\n",
      "2         images/test\\angry\\10079.jpg\n",
      "3         images/test\\angry\\10095.jpg\n",
      "4         images/test\\angry\\10121.jpg\n",
      "                    ...              \n",
      "7061    images/test\\surprise\\9806.jpg\n",
      "7062    images/test\\surprise\\9830.jpg\n",
      "7063    images/test\\surprise\\9853.jpg\n",
      "7064    images/test\\surprise\\9878.jpg\n",
      "7065     images/test\\surprise\\993.jpg\n",
      "Name: image, Length: 7066, dtype: object\n"
     ]
    }
   ],
   "source": [
    "print(test)\n",
    "print(test['image'])"
   ]
  },
  {
   "cell_type": "code",
   "execution_count": 8,
   "id": "693324b0",
   "metadata": {},
   "outputs": [],
   "source": [
    "from tqdm.notebook import tqdm"
   ]
  },
  {
   "cell_type": "code",
   "execution_count": 9,
   "id": "f52ccbbe",
   "metadata": {},
   "outputs": [],
   "source": [
    "def extract_features(images):\n",
    "    features = []\n",
    "    for image in tqdm(images):\n",
    "        img = load_img(image,grayscale =  True )\n",
    "        img = np.array(img)\n",
    "        features.append(img)\n",
    "    features = np.array(features)\n",
    "    features = features.reshape(len(features),48,48,1)\n",
    "    return features\n",
    "    "
   ]
  },
  {
   "cell_type": "code",
   "execution_count": 10,
   "id": "942a9d40",
   "metadata": {},
   "outputs": [
    {
     "data": {
      "application/vnd.jupyter.widget-view+json": {
       "model_id": "46d1d47e3be04a16a2bc14a807af976c",
       "version_major": 2,
       "version_minor": 0
      },
      "text/plain": [
       "  0%|          | 0/28821 [00:00<?, ?it/s]"
      ]
     },
     "metadata": {},
     "output_type": "display_data"
    },
    {
     "name": "stderr",
     "output_type": "stream",
     "text": [
      "C:\\Users\\Sidha\\AppData\\Local\\Programs\\Python\\Python311\\Lib\\site-packages\\keras_preprocessing\\image\\utils.py:107: UserWarning: grayscale is deprecated. Please use color_mode = \"grayscale\"\n",
      "  warnings.warn('grayscale is deprecated. Please use '\n"
     ]
    }
   ],
   "source": [
    "train_features = extract_features(train['image']) "
   ]
  },
  {
   "cell_type": "code",
   "execution_count": 11,
   "id": "c1b294ed",
   "metadata": {},
   "outputs": [
    {
     "data": {
      "application/vnd.jupyter.widget-view+json": {
       "model_id": "822b5c1675464999885cc1c37c9cb56d",
       "version_major": 2,
       "version_minor": 0
      },
      "text/plain": [
       "  0%|          | 0/7066 [00:00<?, ?it/s]"
      ]
     },
     "metadata": {},
     "output_type": "display_data"
    }
   ],
   "source": [
    "test_features = extract_features(test['image'])"
   ]
  },
  {
   "cell_type": "code",
   "execution_count": 12,
   "id": "f78b5d34",
   "metadata": {},
   "outputs": [],
   "source": [
    "x_train = train_features/255.0\n",
    "x_test = test_features/255.0"
   ]
  },
  {
   "cell_type": "code",
   "execution_count": 13,
   "id": "c660fca1",
   "metadata": {},
   "outputs": [],
   "source": [
    "from sklearn.preprocessing import LabelEncoder"
   ]
  },
  {
   "cell_type": "code",
   "execution_count": 14,
   "id": "5384a25b",
   "metadata": {},
   "outputs": [
    {
     "data": {
      "text/html": [
       "<style>#sk-container-id-1 {color: black;background-color: white;}#sk-container-id-1 pre{padding: 0;}#sk-container-id-1 div.sk-toggleable {background-color: white;}#sk-container-id-1 label.sk-toggleable__label {cursor: pointer;display: block;width: 100%;margin-bottom: 0;padding: 0.3em;box-sizing: border-box;text-align: center;}#sk-container-id-1 label.sk-toggleable__label-arrow:before {content: \"▸\";float: left;margin-right: 0.25em;color: #696969;}#sk-container-id-1 label.sk-toggleable__label-arrow:hover:before {color: black;}#sk-container-id-1 div.sk-estimator:hover label.sk-toggleable__label-arrow:before {color: black;}#sk-container-id-1 div.sk-toggleable__content {max-height: 0;max-width: 0;overflow: hidden;text-align: left;background-color: #f0f8ff;}#sk-container-id-1 div.sk-toggleable__content pre {margin: 0.2em;color: black;border-radius: 0.25em;background-color: #f0f8ff;}#sk-container-id-1 input.sk-toggleable__control:checked~div.sk-toggleable__content {max-height: 200px;max-width: 100%;overflow: auto;}#sk-container-id-1 input.sk-toggleable__control:checked~label.sk-toggleable__label-arrow:before {content: \"▾\";}#sk-container-id-1 div.sk-estimator input.sk-toggleable__control:checked~label.sk-toggleable__label {background-color: #d4ebff;}#sk-container-id-1 div.sk-label input.sk-toggleable__control:checked~label.sk-toggleable__label {background-color: #d4ebff;}#sk-container-id-1 input.sk-hidden--visually {border: 0;clip: rect(1px 1px 1px 1px);clip: rect(1px, 1px, 1px, 1px);height: 1px;margin: -1px;overflow: hidden;padding: 0;position: absolute;width: 1px;}#sk-container-id-1 div.sk-estimator {font-family: monospace;background-color: #f0f8ff;border: 1px dotted black;border-radius: 0.25em;box-sizing: border-box;margin-bottom: 0.5em;}#sk-container-id-1 div.sk-estimator:hover {background-color: #d4ebff;}#sk-container-id-1 div.sk-parallel-item::after {content: \"\";width: 100%;border-bottom: 1px solid gray;flex-grow: 1;}#sk-container-id-1 div.sk-label:hover label.sk-toggleable__label {background-color: #d4ebff;}#sk-container-id-1 div.sk-serial::before {content: \"\";position: absolute;border-left: 1px solid gray;box-sizing: border-box;top: 0;bottom: 0;left: 50%;z-index: 0;}#sk-container-id-1 div.sk-serial {display: flex;flex-direction: column;align-items: center;background-color: white;padding-right: 0.2em;padding-left: 0.2em;position: relative;}#sk-container-id-1 div.sk-item {position: relative;z-index: 1;}#sk-container-id-1 div.sk-parallel {display: flex;align-items: stretch;justify-content: center;background-color: white;position: relative;}#sk-container-id-1 div.sk-item::before, #sk-container-id-1 div.sk-parallel-item::before {content: \"\";position: absolute;border-left: 1px solid gray;box-sizing: border-box;top: 0;bottom: 0;left: 50%;z-index: -1;}#sk-container-id-1 div.sk-parallel-item {display: flex;flex-direction: column;z-index: 1;position: relative;background-color: white;}#sk-container-id-1 div.sk-parallel-item:first-child::after {align-self: flex-end;width: 50%;}#sk-container-id-1 div.sk-parallel-item:last-child::after {align-self: flex-start;width: 50%;}#sk-container-id-1 div.sk-parallel-item:only-child::after {width: 0;}#sk-container-id-1 div.sk-dashed-wrapped {border: 1px dashed gray;margin: 0 0.4em 0.5em 0.4em;box-sizing: border-box;padding-bottom: 0.4em;background-color: white;}#sk-container-id-1 div.sk-label label {font-family: monospace;font-weight: bold;display: inline-block;line-height: 1.2em;}#sk-container-id-1 div.sk-label-container {text-align: center;}#sk-container-id-1 div.sk-container {/* jupyter's `normalize.less` sets `[hidden] { display: none; }` but bootstrap.min.css set `[hidden] { display: none !important; }` so we also need the `!important` here to be able to override the default hidden behavior on the sphinx rendered scikit-learn.org. See: https://github.com/scikit-learn/scikit-learn/issues/21755 */display: inline-block !important;position: relative;}#sk-container-id-1 div.sk-text-repr-fallback {display: none;}</style><div id=\"sk-container-id-1\" class=\"sk-top-container\"><div class=\"sk-text-repr-fallback\"><pre>LabelEncoder()</pre><b>In a Jupyter environment, please rerun this cell to show the HTML representation or trust the notebook. <br />On GitHub, the HTML representation is unable to render, please try loading this page with nbviewer.org.</b></div><div class=\"sk-container\" hidden><div class=\"sk-item\"><div class=\"sk-estimator sk-toggleable\"><input class=\"sk-toggleable__control sk-hidden--visually\" id=\"sk-estimator-id-1\" type=\"checkbox\" checked><label for=\"sk-estimator-id-1\" class=\"sk-toggleable__label sk-toggleable__label-arrow\">LabelEncoder</label><div class=\"sk-toggleable__content\"><pre>LabelEncoder()</pre></div></div></div></div></div>"
      ],
      "text/plain": [
       "LabelEncoder()"
      ]
     },
     "execution_count": 14,
     "metadata": {},
     "output_type": "execute_result"
    }
   ],
   "source": [
    "le = LabelEncoder()\n",
    "le.fit(train['label'])"
   ]
  },
  {
   "cell_type": "code",
   "execution_count": 15,
   "id": "50ece229",
   "metadata": {},
   "outputs": [],
   "source": [
    "y_train = le.transform(train['label'])\n",
    "y_test = le.transform(test['label'])"
   ]
  },
  {
   "cell_type": "code",
   "execution_count": 16,
   "id": "5e284299",
   "metadata": {},
   "outputs": [],
   "source": [
    "y_train = to_categorical(y_train,num_classes = 7)\n",
    "y_test = to_categorical(y_test,num_classes = 7)"
   ]
  },
  {
   "cell_type": "code",
   "execution_count": 17,
   "id": "3977223a",
   "metadata": {},
   "outputs": [],
   "source": [
    "model = Sequential()\n",
    "# convolutional layers\n",
    "model.add(Conv2D(128, kernel_size=(3,3), activation='relu', input_shape=(48,48,1)))\n",
    "model.add(MaxPooling2D(pool_size=(2,2)))\n",
    "model.add(Dropout(0.4))\n",
    "\n",
    "model.add(Conv2D(256, kernel_size=(3,3), activation='relu'))\n",
    "model.add(MaxPooling2D(pool_size=(2,2)))\n",
    "model.add(Dropout(0.4))\n",
    "\n",
    "model.add(Conv2D(512, kernel_size=(3,3), activation='relu'))\n",
    "model.add(MaxPooling2D(pool_size=(2,2)))\n",
    "model.add(Dropout(0.4))\n",
    "\n",
    "model.add(Conv2D(512, kernel_size=(3,3), activation='relu'))\n",
    "model.add(MaxPooling2D(pool_size=(2,2)))\n",
    "model.add(Dropout(0.4))\n",
    "\n",
    "model.add(Flatten())\n",
    "# fully connected layers\n",
    "model.add(Dense(512, activation='relu'))\n",
    "model.add(Dropout(0.4))\n",
    "model.add(Dense(256, activation='relu'))\n",
    "model.add(Dropout(0.3))\n",
    "# output layer\n",
    "model.add(Dense(7, activation='softmax'))"
   ]
  },
  {
   "cell_type": "code",
   "execution_count": 18,
   "id": "de986d6e",
   "metadata": {},
   "outputs": [],
   "source": [
    "model.compile(optimizer = 'adam', loss = 'categorical_crossentropy', metrics = 'accuracy' )"
   ]
  },
  {
   "cell_type": "code",
   "execution_count": 19,
   "id": "5cd0b130",
   "metadata": {},
   "outputs": [
    {
     "name": "stdout",
     "output_type": "stream",
     "text": [
      "Epoch 1/100\n",
      "226/226 [==============================] - 286s 1s/step - loss: 1.8236 - accuracy: 0.2430 - val_loss: 1.8197 - val_accuracy: 0.2583\n",
      "Epoch 2/100\n",
      "226/226 [==============================] - 285s 1s/step - loss: 1.8047 - accuracy: 0.2487 - val_loss: 1.7735 - val_accuracy: 0.2620\n",
      "Epoch 3/100\n",
      "226/226 [==============================] - 285s 1s/step - loss: 1.7343 - accuracy: 0.2825 - val_loss: 1.6546 - val_accuracy: 0.3481\n",
      "Epoch 4/100\n",
      "226/226 [==============================] - 284s 1s/step - loss: 1.6166 - accuracy: 0.3599 - val_loss: 1.5004 - val_accuracy: 0.4179\n",
      "Epoch 5/100\n",
      "226/226 [==============================] - 280s 1s/step - loss: 1.5188 - accuracy: 0.4095 - val_loss: 1.4126 - val_accuracy: 0.4626\n",
      "Epoch 6/100\n",
      "226/226 [==============================] - 268s 1s/step - loss: 1.4465 - accuracy: 0.4403 - val_loss: 1.3616 - val_accuracy: 0.4748\n",
      "Epoch 7/100\n",
      "226/226 [==============================] - 264s 1s/step - loss: 1.3986 - accuracy: 0.4583 - val_loss: 1.2755 - val_accuracy: 0.5116\n",
      "Epoch 8/100\n",
      "226/226 [==============================] - 264s 1s/step - loss: 1.3726 - accuracy: 0.4765 - val_loss: 1.2565 - val_accuracy: 0.5239\n",
      "Epoch 9/100\n",
      "226/226 [==============================] - 263s 1s/step - loss: 1.3361 - accuracy: 0.4898 - val_loss: 1.2320 - val_accuracy: 0.5337\n",
      "Epoch 10/100\n",
      "226/226 [==============================] - 264s 1s/step - loss: 1.3175 - accuracy: 0.4968 - val_loss: 1.2148 - val_accuracy: 0.5426\n",
      "Epoch 11/100\n",
      "226/226 [==============================] - 264s 1s/step - loss: 1.2925 - accuracy: 0.5053 - val_loss: 1.1926 - val_accuracy: 0.5474\n",
      "Epoch 12/100\n",
      "226/226 [==============================] - 262s 1s/step - loss: 1.2722 - accuracy: 0.5131 - val_loss: 1.1803 - val_accuracy: 0.5501\n",
      "Epoch 13/100\n",
      "226/226 [==============================] - 264s 1s/step - loss: 1.2607 - accuracy: 0.5195 - val_loss: 1.1805 - val_accuracy: 0.5478\n",
      "Epoch 14/100\n",
      "226/226 [==============================] - 263s 1s/step - loss: 1.2421 - accuracy: 0.5262 - val_loss: 1.1774 - val_accuracy: 0.5543\n",
      "Epoch 15/100\n",
      "226/226 [==============================] - 263s 1s/step - loss: 1.2293 - accuracy: 0.5331 - val_loss: 1.1527 - val_accuracy: 0.5674\n",
      "Epoch 16/100\n",
      "226/226 [==============================] - 262s 1s/step - loss: 1.2127 - accuracy: 0.5391 - val_loss: 1.1506 - val_accuracy: 0.5590\n",
      "Epoch 17/100\n",
      "226/226 [==============================] - 262s 1s/step - loss: 1.2069 - accuracy: 0.5392 - val_loss: 1.1366 - val_accuracy: 0.5727\n",
      "Epoch 18/100\n",
      "226/226 [==============================] - 263s 1s/step - loss: 1.1957 - accuracy: 0.5491 - val_loss: 1.1324 - val_accuracy: 0.5678\n",
      "Epoch 19/100\n",
      "226/226 [==============================] - 263s 1s/step - loss: 1.1826 - accuracy: 0.5482 - val_loss: 1.1156 - val_accuracy: 0.5818\n",
      "Epoch 20/100\n",
      "226/226 [==============================] - 261s 1s/step - loss: 1.1715 - accuracy: 0.5565 - val_loss: 1.0980 - val_accuracy: 0.5838\n",
      "Epoch 21/100\n",
      "226/226 [==============================] - 261s 1s/step - loss: 1.1615 - accuracy: 0.5587 - val_loss: 1.1069 - val_accuracy: 0.5870\n",
      "Epoch 22/100\n",
      "226/226 [==============================] - 263s 1s/step - loss: 1.1563 - accuracy: 0.5596 - val_loss: 1.0985 - val_accuracy: 0.5828\n",
      "Epoch 23/100\n",
      "226/226 [==============================] - 263s 1s/step - loss: 1.1435 - accuracy: 0.5652 - val_loss: 1.0956 - val_accuracy: 0.5860\n",
      "Epoch 24/100\n",
      "226/226 [==============================] - 262s 1s/step - loss: 1.1405 - accuracy: 0.5695 - val_loss: 1.1033 - val_accuracy: 0.5810\n",
      "Epoch 25/100\n",
      "226/226 [==============================] - 260s 1s/step - loss: 1.1233 - accuracy: 0.5735 - val_loss: 1.0929 - val_accuracy: 0.5893\n",
      "Epoch 26/100\n",
      "226/226 [==============================] - 262s 1s/step - loss: 1.1229 - accuracy: 0.5750 - val_loss: 1.0832 - val_accuracy: 0.5969\n",
      "Epoch 27/100\n",
      "226/226 [==============================] - 262s 1s/step - loss: 1.1049 - accuracy: 0.5815 - val_loss: 1.0836 - val_accuracy: 0.5918\n",
      "Epoch 28/100\n",
      "226/226 [==============================] - 303s 1s/step - loss: 1.1081 - accuracy: 0.5818 - val_loss: 1.0886 - val_accuracy: 0.5879\n",
      "Epoch 29/100\n",
      "226/226 [==============================] - 371s 2s/step - loss: 1.0997 - accuracy: 0.5825 - val_loss: 1.0702 - val_accuracy: 0.5978\n",
      "Epoch 30/100\n",
      "226/226 [==============================] - 370s 2s/step - loss: 1.0869 - accuracy: 0.5887 - val_loss: 1.0668 - val_accuracy: 0.6015\n",
      "Epoch 31/100\n",
      "226/226 [==============================] - 372s 2s/step - loss: 1.0841 - accuracy: 0.5921 - val_loss: 1.0714 - val_accuracy: 0.6015\n",
      "Epoch 32/100\n",
      "226/226 [==============================] - 340s 2s/step - loss: 1.0750 - accuracy: 0.5962 - val_loss: 1.0644 - val_accuracy: 0.6023\n",
      "Epoch 33/100\n",
      "226/226 [==============================] - 335s 1s/step - loss: 1.0668 - accuracy: 0.5958 - val_loss: 1.0664 - val_accuracy: 0.6016\n",
      "Epoch 34/100\n",
      "226/226 [==============================] - 346s 2s/step - loss: 1.0680 - accuracy: 0.5979 - val_loss: 1.0606 - val_accuracy: 0.6040\n",
      "Epoch 35/100\n",
      "226/226 [==============================] - 364s 2s/step - loss: 1.0595 - accuracy: 0.6014 - val_loss: 1.0694 - val_accuracy: 0.6046\n",
      "Epoch 36/100\n",
      "226/226 [==============================] - 370s 2s/step - loss: 1.0508 - accuracy: 0.5995 - val_loss: 1.0545 - val_accuracy: 0.6087\n",
      "Epoch 37/100\n",
      "226/226 [==============================] - 372s 2s/step - loss: 1.0450 - accuracy: 0.6054 - val_loss: 1.0649 - val_accuracy: 0.6121\n",
      "Epoch 38/100\n",
      "226/226 [==============================] - 334s 1s/step - loss: 1.0399 - accuracy: 0.6095 - val_loss: 1.0572 - val_accuracy: 0.6111\n",
      "Epoch 39/100\n",
      "226/226 [==============================] - 289s 1s/step - loss: 1.0338 - accuracy: 0.6110 - val_loss: 1.0577 - val_accuracy: 0.6100\n",
      "Epoch 40/100\n",
      "226/226 [==============================] - 304s 1s/step - loss: 1.0297 - accuracy: 0.6098 - val_loss: 1.0665 - val_accuracy: 0.5998\n",
      "Epoch 41/100\n",
      "226/226 [==============================] - 4219s 19s/step - loss: 1.0160 - accuracy: 0.6172 - val_loss: 1.0581 - val_accuracy: 0.6078\n",
      "Epoch 42/100\n",
      "226/226 [==============================] - 281s 1s/step - loss: 1.0219 - accuracy: 0.6164 - val_loss: 1.0500 - val_accuracy: 0.6107\n",
      "Epoch 43/100\n",
      "226/226 [==============================] - 288s 1s/step - loss: 1.0098 - accuracy: 0.6208 - val_loss: 1.0581 - val_accuracy: 0.6029\n",
      "Epoch 44/100\n",
      "226/226 [==============================] - 298s 1s/step - loss: 1.0093 - accuracy: 0.6189 - val_loss: 1.0475 - val_accuracy: 0.6110\n",
      "Epoch 45/100\n",
      "226/226 [==============================] - 369s 2s/step - loss: 1.0067 - accuracy: 0.6216 - val_loss: 1.0439 - val_accuracy: 0.6108\n",
      "Epoch 46/100\n",
      "226/226 [==============================] - 378s 2s/step - loss: 0.9954 - accuracy: 0.6270 - val_loss: 1.0322 - val_accuracy: 0.6186\n",
      "Epoch 47/100\n",
      "226/226 [==============================] - 374s 2s/step - loss: 0.9860 - accuracy: 0.6280 - val_loss: 1.0516 - val_accuracy: 0.6112\n",
      "Epoch 48/100\n",
      "226/226 [==============================] - 373s 2s/step - loss: 0.9847 - accuracy: 0.6327 - val_loss: 1.0462 - val_accuracy: 0.6155\n",
      "Epoch 49/100\n",
      "226/226 [==============================] - 371s 2s/step - loss: 0.9794 - accuracy: 0.6335 - val_loss: 1.0363 - val_accuracy: 0.6156\n",
      "Epoch 50/100\n",
      "226/226 [==============================] - 7973s 35s/step - loss: 0.9726 - accuracy: 0.6369 - val_loss: 1.0400 - val_accuracy: 0.6152\n",
      "Epoch 51/100\n",
      "226/226 [==============================] - 263s 1s/step - loss: 0.9642 - accuracy: 0.6379 - val_loss: 1.0284 - val_accuracy: 0.6220\n",
      "Epoch 52/100\n",
      "226/226 [==============================] - 269s 1s/step - loss: 0.9572 - accuracy: 0.6418 - val_loss: 1.0325 - val_accuracy: 0.6219\n",
      "Epoch 53/100\n",
      "226/226 [==============================] - 273s 1s/step - loss: 0.9570 - accuracy: 0.6410 - val_loss: 1.0536 - val_accuracy: 0.6134\n",
      "Epoch 54/100\n",
      "226/226 [==============================] - 271s 1s/step - loss: 0.9528 - accuracy: 0.6436 - val_loss: 1.0345 - val_accuracy: 0.6207\n",
      "Epoch 55/100\n",
      "226/226 [==============================] - 273s 1s/step - loss: 0.9463 - accuracy: 0.6460 - val_loss: 1.0370 - val_accuracy: 0.6211\n",
      "Epoch 56/100\n",
      "226/226 [==============================] - 271s 1s/step - loss: 0.9553 - accuracy: 0.6430 - val_loss: 1.0345 - val_accuracy: 0.6257\n",
      "Epoch 57/100\n",
      "226/226 [==============================] - 263s 1s/step - loss: 0.9332 - accuracy: 0.6500 - val_loss: 1.0437 - val_accuracy: 0.6227\n",
      "Epoch 58/100\n",
      "226/226 [==============================] - 266s 1s/step - loss: 0.9419 - accuracy: 0.6494 - val_loss: 1.0348 - val_accuracy: 0.6213\n",
      "Epoch 59/100\n",
      "226/226 [==============================] - 307s 1s/step - loss: 0.9237 - accuracy: 0.6563 - val_loss: 1.0394 - val_accuracy: 0.6172\n",
      "Epoch 60/100\n",
      "226/226 [==============================] - 304s 1s/step - loss: 0.9265 - accuracy: 0.6527 - val_loss: 1.0258 - val_accuracy: 0.6211\n",
      "Epoch 61/100\n",
      "226/226 [==============================] - 308s 1s/step - loss: 0.9262 - accuracy: 0.6568 - val_loss: 1.0455 - val_accuracy: 0.6172\n",
      "Epoch 62/100\n",
      "226/226 [==============================] - 306s 1s/step - loss: 0.9081 - accuracy: 0.6586 - val_loss: 1.0225 - val_accuracy: 0.6227\n",
      "Epoch 63/100\n",
      "226/226 [==============================] - 302s 1s/step - loss: 0.9156 - accuracy: 0.6598 - val_loss: 1.0394 - val_accuracy: 0.6231\n",
      "Epoch 64/100\n",
      "226/226 [==============================] - 301s 1s/step - loss: 0.9059 - accuracy: 0.6600 - val_loss: 1.0301 - val_accuracy: 0.6269\n",
      "Epoch 65/100\n",
      "226/226 [==============================] - 300s 1s/step - loss: 0.8977 - accuracy: 0.6639 - val_loss: 1.0294 - val_accuracy: 0.6202\n",
      "Epoch 66/100\n",
      "226/226 [==============================] - 299s 1s/step - loss: 0.8977 - accuracy: 0.6658 - val_loss: 1.0378 - val_accuracy: 0.6173\n",
      "Epoch 67/100\n",
      "226/226 [==============================] - 295s 1s/step - loss: 0.8924 - accuracy: 0.6676 - val_loss: 1.0340 - val_accuracy: 0.6217\n",
      "Epoch 68/100\n",
      "226/226 [==============================] - 275s 1s/step - loss: 0.8874 - accuracy: 0.6694 - val_loss: 1.0319 - val_accuracy: 0.6228\n",
      "Epoch 69/100\n",
      "226/226 [==============================] - 276s 1s/step - loss: 0.8853 - accuracy: 0.6745 - val_loss: 1.0284 - val_accuracy: 0.6271\n",
      "Epoch 70/100\n",
      "226/226 [==============================] - 275s 1s/step - loss: 0.8761 - accuracy: 0.6733 - val_loss: 1.0318 - val_accuracy: 0.6220\n",
      "Epoch 71/100\n",
      "226/226 [==============================] - 275s 1s/step - loss: 0.8759 - accuracy: 0.6744 - val_loss: 1.0291 - val_accuracy: 0.6230\n",
      "Epoch 72/100\n",
      "226/226 [==============================] - 275s 1s/step - loss: 0.8680 - accuracy: 0.6784 - val_loss: 1.0285 - val_accuracy: 0.6271\n",
      "Epoch 73/100\n",
      "226/226 [==============================] - 275s 1s/step - loss: 0.8637 - accuracy: 0.6785 - val_loss: 1.0309 - val_accuracy: 0.6284\n",
      "Epoch 74/100\n",
      "226/226 [==============================] - 306s 1s/step - loss: 0.8628 - accuracy: 0.6804 - val_loss: 1.0363 - val_accuracy: 0.6260\n",
      "Epoch 75/100\n",
      "226/226 [==============================] - 359s 2s/step - loss: 0.8672 - accuracy: 0.6812 - val_loss: 1.0498 - val_accuracy: 0.6209\n",
      "Epoch 76/100\n",
      "226/226 [==============================] - 339s 1s/step - loss: 0.8598 - accuracy: 0.6833 - val_loss: 1.0467 - val_accuracy: 0.6183\n",
      "Epoch 77/100\n",
      "226/226 [==============================] - 347s 2s/step - loss: 0.8477 - accuracy: 0.6855 - val_loss: 1.0265 - val_accuracy: 0.6267\n",
      "Epoch 78/100\n",
      "226/226 [==============================] - 357s 2s/step - loss: 0.8388 - accuracy: 0.6921 - val_loss: 1.0471 - val_accuracy: 0.6226\n",
      "Epoch 79/100\n",
      "226/226 [==============================] - 362s 2s/step - loss: 0.8463 - accuracy: 0.6877 - val_loss: 1.0383 - val_accuracy: 0.6272\n",
      "Epoch 80/100\n",
      "226/226 [==============================] - 364s 2s/step - loss: 0.8394 - accuracy: 0.6874 - val_loss: 1.0461 - val_accuracy: 0.6255\n",
      "Epoch 81/100\n",
      "226/226 [==============================] - 364s 2s/step - loss: 0.8347 - accuracy: 0.6910 - val_loss: 1.0512 - val_accuracy: 0.6282\n",
      "Epoch 82/100\n",
      "226/226 [==============================] - 363s 2s/step - loss: 0.8348 - accuracy: 0.6902 - val_loss: 1.0406 - val_accuracy: 0.6301\n",
      "Epoch 83/100\n",
      "226/226 [==============================] - 364s 2s/step - loss: 0.8258 - accuracy: 0.6967 - val_loss: 1.0482 - val_accuracy: 0.6228\n",
      "Epoch 84/100\n",
      "226/226 [==============================] - 363s 2s/step - loss: 0.8205 - accuracy: 0.6978 - val_loss: 1.0440 - val_accuracy: 0.6248\n",
      "Epoch 85/100\n",
      "226/226 [==============================] - 363s 2s/step - loss: 0.8096 - accuracy: 0.7008 - val_loss: 1.0298 - val_accuracy: 0.6305\n",
      "Epoch 86/100\n",
      "226/226 [==============================] - 976s 4s/step - loss: 0.8262 - accuracy: 0.6935 - val_loss: 1.0608 - val_accuracy: 0.6226\n",
      "Epoch 87/100\n",
      "226/226 [==============================] - 273s 1s/step - loss: 0.8137 - accuracy: 0.6995 - val_loss: 1.0386 - val_accuracy: 0.6330\n",
      "Epoch 88/100\n",
      "226/226 [==============================] - 276s 1s/step - loss: 0.8143 - accuracy: 0.7009 - val_loss: 1.0497 - val_accuracy: 0.6258\n",
      "Epoch 89/100\n",
      "226/226 [==============================] - 271s 1s/step - loss: 0.8161 - accuracy: 0.7013 - val_loss: 1.0394 - val_accuracy: 0.6322\n",
      "Epoch 90/100\n",
      "226/226 [==============================] - 276s 1s/step - loss: 0.7956 - accuracy: 0.7093 - val_loss: 1.0387 - val_accuracy: 0.6292\n",
      "Epoch 91/100\n",
      "226/226 [==============================] - 278s 1s/step - loss: 0.8032 - accuracy: 0.7023 - val_loss: 1.0417 - val_accuracy: 0.6320\n",
      "Epoch 92/100\n",
      "226/226 [==============================] - 273s 1s/step - loss: 0.8088 - accuracy: 0.7014 - val_loss: 1.0387 - val_accuracy: 0.6295\n",
      "Epoch 93/100\n",
      "226/226 [==============================] - 273s 1s/step - loss: 0.7995 - accuracy: 0.7086 - val_loss: 1.0362 - val_accuracy: 0.6303\n",
      "Epoch 94/100\n",
      "226/226 [==============================] - 273s 1s/step - loss: 0.7899 - accuracy: 0.7137 - val_loss: 1.0464 - val_accuracy: 0.6228\n",
      "Epoch 95/100\n",
      "226/226 [==============================] - 274s 1s/step - loss: 0.7938 - accuracy: 0.7081 - val_loss: 1.0471 - val_accuracy: 0.6247\n",
      "Epoch 96/100\n",
      "226/226 [==============================] - 273s 1s/step - loss: 0.7801 - accuracy: 0.7128 - val_loss: 1.0422 - val_accuracy: 0.6211\n",
      "Epoch 97/100\n",
      "226/226 [==============================] - 273s 1s/step - loss: 0.7695 - accuracy: 0.7193 - val_loss: 1.0516 - val_accuracy: 0.6288\n",
      "Epoch 98/100\n",
      "226/226 [==============================] - 273s 1s/step - loss: 0.7709 - accuracy: 0.7176 - val_loss: 1.0483 - val_accuracy: 0.6311\n",
      "Epoch 99/100\n",
      "226/226 [==============================] - 273s 1s/step - loss: 0.7726 - accuracy: 0.7168 - val_loss: 1.0528 - val_accuracy: 0.6308\n",
      "Epoch 100/100\n",
      "226/226 [==============================] - 272s 1s/step - loss: 0.7697 - accuracy: 0.7182 - val_loss: 1.0655 - val_accuracy: 0.6226\n"
     ]
    },
    {
     "data": {
      "text/plain": [
       "<keras.src.callbacks.History at 0x2519904a510>"
      ]
     },
     "execution_count": 19,
     "metadata": {},
     "output_type": "execute_result"
    }
   ],
   "source": [
    "model.fit(x= x_train,y = y_train, batch_size = 128, epochs = 100, validation_data = (x_test,y_test)) "
   ]
  },
  {
   "cell_type": "code",
   "execution_count": 20,
   "id": "2b0f1923",
   "metadata": {},
   "outputs": [
    {
     "name": "stderr",
     "output_type": "stream",
     "text": [
      "C:\\Users\\Sidha\\AppData\\Local\\Programs\\Python\\Python311\\Lib\\site-packages\\keras\\src\\engine\\training.py:3000: UserWarning: You are saving your model as an HDF5 file via `model.save()`. This file format is considered legacy. We recommend using instead the native Keras format, e.g. `model.save('my_model.keras')`.\n",
      "  saving_api.save_model(\n"
     ]
    }
   ],
   "source": [
    "model_json = model.to_json()\n",
    "with open(\"emotiondetector.json\",'w') as json_file:\n",
    "    json_file.write(model_json)\n",
    "model.save(\"emotiondetector.h5\")"
   ]
  },
  {
   "cell_type": "code",
   "execution_count": 21,
   "id": "46e2098e",
   "metadata": {},
   "outputs": [],
   "source": [
    "from keras.models import model_from_json"
   ]
  },
  {
   "cell_type": "code",
   "execution_count": 25,
   "id": "90703547",
   "metadata": {},
   "outputs": [],
   "source": [
    "json_file = open(\"emotiondetector.json\", \"r\")\n",
    "model_json = json_file.read()\n",
    "json_file.close()\n",
    "model = model_from_json(model_json)\n",
    "model.load_weights(\"emotiondetector.h5\")"
   ]
  },
  {
   "cell_type": "code",
   "execution_count": 26,
   "id": "3932bbe8",
   "metadata": {},
   "outputs": [],
   "source": [
    "label = ['angry','disgust','fear','happy','neutral','sad','surprise']"
   ]
  },
  {
   "cell_type": "code",
   "execution_count": 27,
   "id": "b0ccbacf",
   "metadata": {},
   "outputs": [],
   "source": [
    "def ef(image):\n",
    "    img = load_img(image,grayscale =  True )\n",
    "    feature = np.array(img)\n",
    "    feature = feature.reshape(1,48,48,1)\n",
    "    return feature/255.0\n",
    "    "
   ]
  },
  {
   "cell_type": "code",
   "execution_count": 28,
   "id": "5882c78e",
   "metadata": {},
   "outputs": [
    {
     "name": "stdout",
     "output_type": "stream",
     "text": [
      "original image is of sad\n"
     ]
    },
    {
     "name": "stderr",
     "output_type": "stream",
     "text": [
      "C:\\Users\\Sidha\\AppData\\Local\\Programs\\Python\\Python311\\Lib\\site-packages\\keras_preprocessing\\image\\utils.py:107: UserWarning: grayscale is deprecated. Please use color_mode = \"grayscale\"\n",
      "  warnings.warn('grayscale is deprecated. Please use '\n"
     ]
    },
    {
     "name": "stdout",
     "output_type": "stream",
     "text": [
      "1/1 [==============================] - 0s 206ms/step\n",
      "model prediction is  sad\n"
     ]
    }
   ],
   "source": [
    "image = 'images/train/sad/42.jpg'\n",
    "print(\"original image is of sad\")\n",
    "img = ef(image)\n",
    "pred = model.predict(img)\n",
    "pred_label = label[pred.argmax()]\n",
    "print(\"model prediction is \",pred_label)"
   ]
  },
  {
   "cell_type": "code",
   "execution_count": 29,
   "id": "8994206c",
   "metadata": {},
   "outputs": [],
   "source": [
    "import matplotlib.pyplot as plt\n",
    "%matplotlib inline"
   ]
  },
  {
   "cell_type": "code",
   "execution_count": 30,
   "id": "c83af9e1",
   "metadata": {},
   "outputs": [
    {
     "name": "stdout",
     "output_type": "stream",
     "text": [
      "original image is of sad\n",
      "1/1 [==============================] - 0s 31ms/step\n",
      "model prediction is  sad\n"
     ]
    },
    {
     "name": "stderr",
     "output_type": "stream",
     "text": [
      "C:\\Users\\Sidha\\AppData\\Local\\Programs\\Python\\Python311\\Lib\\site-packages\\keras_preprocessing\\image\\utils.py:107: UserWarning: grayscale is deprecated. Please use color_mode = \"grayscale\"\n",
      "  warnings.warn('grayscale is deprecated. Please use '\n"
     ]
    },
    {
     "data": {
      "text/plain": [
       "<matplotlib.image.AxesImage at 0x2519e49bf10>"
      ]
     },
     "execution_count": 30,
     "metadata": {},
     "output_type": "execute_result"
    },
    {
     "data": {
      "image/png": "[encoded data removed]",
      "text/plain": [
       "<Figure size 640x480 with 1 Axes>"
      ]
     },
     "metadata": {},
     "output_type": "display_data"
    }
   ],
   "source": [
    "image = 'images/train/sad/42.jpg'\n",
    "print(\"original image is of sad\")\n",
    "img = ef(image)\n",
    "pred = model.predict(img)\n",
    "pred_label = label[pred.argmax()]\n",
    "print(\"model prediction is \",pred_label)\n",
    "plt.imshow(img.reshape(48,48),cmap='gray')"
   ]
  },
  {
   "cell_type": "code",
   "execution_count": 31,
   "id": "5adb7b7a",
   "metadata": {},
   "outputs": [
    {
     "name": "stdout",
     "output_type": "stream",
     "text": [
      "original image is of fear\n",
      "1/1 [==============================] - 0s 45ms/step\n",
      "model prediction is  sad\n"
     ]
    },
    {
     "data": {
      "text/plain": [
       "<matplotlib.image.AxesImage at 0x2519e478710>"
      ]
     },
     "execution_count": 31,
     "metadata": {},
     "output_type": "execute_result"
    },
    {
     "data": {
      "image/png": "[encoded data removed]",
      "text/plain": [
       "<Figure size 640x480 with 1 Axes>"
      ]
     },
     "metadata": {},
     "output_type": "display_data"
    }
   ],
   "source": [
    "image = 'images/train/fear/2.jpg'\n",
    "print(\"original image is of fear\")\n",
    "img = ef(image)\n",
    "pred = model.predict(img)\n",
    "pred_label = label[pred.argmax()]\n",
    "print(\"model prediction is \",pred_label)\n",
    "plt.imshow(img.reshape(48,48),cmap='gray')"
   ]
  },
  {
   "cell_type": "code",
   "execution_count": 32,
   "id": "e5ea96ba",
   "metadata": {},
   "outputs": [
    {
     "name": "stdout",
     "output_type": "stream",
     "text": [
      "original image is of disgust\n",
      "1/1 [==============================] - 0s 40ms/step\n",
      "model prediction is  disgust\n"
     ]
    },
    {
     "data": {
      "text/plain": [
       "<matplotlib.image.AxesImage at 0x2519e530c10>"
      ]
     },
     "execution_count": 32,
     "metadata": {},
     "output_type": "execute_result"
    },
    {
     "data": {
      "image/png": "[encoded data removed]",
      "text/plain": [
       "<Figure size 640x480 with 1 Axes>"
      ]
     },
     "metadata": {},
     "output_type": "display_data"
    }
   ],
   "source": [
    "image = 'images/train/disgust/299.jpg'\n",
    "print(\"original image is of disgust\")\n",
    "img = ef(image)\n",
    "pred = model.predict(img)\n",
    "pred_label = label[pred.argmax()]\n",
    "print(\"model prediction is \",pred_label)\n",
    "plt.imshow(img.reshape(48,48),cmap='gray')"
   ]
  },
  {
   "cell_type": "code",
   "execution_count": 33,
   "id": "1c4befa7",
   "metadata": {},
   "outputs": [
    {
     "name": "stdout",
     "output_type": "stream",
     "text": [
      "original image is of happy\n",
      "1/1 [==============================] - 0s 31ms/step\n",
      "model prediction is  happy\n"
     ]
    },
    {
     "data": {
      "text/plain": [
       "<matplotlib.image.AxesImage at 0x2519e583350>"
      ]
     },
     "execution_count": 33,
     "metadata": {},
     "output_type": "execute_result"
    },
    {
     "data": {
      "image/png": "[encoded data removed]",
      "text/plain": [
       "<Figure size 640x480 with 1 Axes>"
      ]
     },
     "metadata": {},
     "output_type": "display_data"
    }
   ],
   "source": [
    "image = 'images/train/happy/7.jpg'\n",
    "print(\"original image is of happy\")\n",
    "img = ef(image)\n",
    "pred = model.predict(img)\n",
    "pred_label = label[pred.argmax()]\n",
    "print(\"model prediction is \",pred_label)\n",
    "plt.imshow(img.reshape(48,48),cmap='gray')"
   ]
  },
  {
   "cell_type": "code",
   "execution_count": 39,
   "id": "8d6bb2fa",
   "metadata": {},
   "outputs": [
    {
     "name": "stdout",
     "output_type": "stream",
     "text": [
      "original image is of surprise\n",
      "1/1 [==============================] - 0s 39ms/step\n",
      "model prediction is  fear\n"
     ]
    },
    {
     "data": {
      "text/plain": [
       "<matplotlib.image.AxesImage at 0x2519e829750>"
      ]
     },
     "execution_count": 39,
     "metadata": {},
     "output_type": "execute_result"
    },
    {
     "data": {
      "image/png": "[encoded data removed]",
      "text/plain": [
       "<Figure size 640x480 with 1 Axes>"
      ]
     },
     "metadata": {},
     "output_type": "display_data"
    }
   ],
   "source": [
    "image = 'images/train/fear/10012.jpg'\n",
    "print(\"original image is of surprise\")\n",
    "img = ef(image)\n",
    "pred = model.predict(img)\n",
    "pred_label = label[pred.argmax()]\n",
    "print(\"model prediction is \",pred_label)\n",
    "plt.imshow(img.reshape(48,48),cmap='gray')"
   ]
  },
  {
   "cell_type": "code",
   "execution_count": null,
   "id": "b005764f",
   "metadata": {},
   "outputs": [],
   "source": []
  }
 ],
 "metadata": {
  "kernelspec": {
   "display_name": "Python 3 (ipykernel)",
   "language": "python",
   "name": "python3"
  },
  "language_info": {
   "codemirror_mode": {
    "name": "ipython",
    "version": 3
   },
   "file_extension": ".py",
   "mimetype": "text/x-python",
   "name": "python",
   "nbconvert_exporter": "python",
   "pygments_lexer": "ipython3",
   "version": "3.11.4"
  }
 },
 "nbformat": 4,
 "nbformat_minor": 5
}
